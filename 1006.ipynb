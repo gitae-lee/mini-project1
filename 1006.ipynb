{
  "nbformat": 4,
  "nbformat_minor": 0,
  "metadata": {
    "colab": {
      "provenance": [],
      "collapsed_sections": [],
      "include_colab_link": true
    },
    "kernelspec": {
      "name": "python3",
      "display_name": "Python 3"
    },
    "language_info": {
      "name": "python"
    }
  },
  "cells": [
    {
      "cell_type": "markdown",
      "metadata": {
        "id": "view-in-github",
        "colab_type": "text"
      },
      "source": [
        "<a href=\"https://colab.research.google.com/github/gitae-lee/mini-project1/blob/master/1006.ipynb\" target=\"_parent\"><img src=\"https://colab.research.google.com/assets/colab-badge.svg\" alt=\"Open In Colab\"/></a>"
      ]
    },
    {
      "cell_type": "markdown",
      "source": [
        "# 소개\n",
        "\n",
        "https://numpy.org/doc/stable/user/whatisnumpy.html"
      ],
      "metadata": {
        "id": "rBIxSYuqsqPQ"
      }
    },
    {
      "cell_type": "code",
      "source": [
        "ls =[[1,2,3,4],[3,4,5],[2,3],[1],1,2,'Hello']\n",
        "ls"
      ],
      "metadata": {
        "colab": {
          "base_uri": "https://localhost:8080/"
        },
        "id": "vu35_ZNZstEn",
        "outputId": "720f7073-7578-4536-b71f-e8c0ea871b19"
      },
      "execution_count": null,
      "outputs": [
        {
          "output_type": "execute_result",
          "data": {
            "text/plain": [
              "[[1, 2, 3, 4], [3, 4, 5], [2, 3], [1], 1, 2, 'Hello']"
            ]
          },
          "metadata": {},
          "execution_count": 6
        }
      ]
    },
    {
      "cell_type": "code",
      "source": [
        "#numpy 모듈을 사용하기 위한 import문\n",
        "import numpy as np"
      ],
      "metadata": {
        "id": "GV5A2tdWtUL3"
      },
      "execution_count": null,
      "outputs": []
    },
    {
      "cell_type": "code",
      "source": [
        "ls = [1,2,3,4,5]\n",
        "arr = np.array(ls)\n",
        "print(arr)\n",
        "print(type(arr)) #다차원 배열을 표현하는 타입이 ndarray"
      ],
      "metadata": {
        "colab": {
          "base_uri": "https://localhost:8080/"
        },
        "id": "cLToJWmMt67G",
        "outputId": "af626f83-b179-429c-bfa4-b93655a1e3da"
      },
      "execution_count": null,
      "outputs": [
        {
          "output_type": "stream",
          "name": "stdout",
          "text": [
            "[1 2 3 4 5]\n",
            "<class 'numpy.ndarray'>\n"
          ]
        }
      ]
    },
    {
      "cell_type": "code",
      "source": [
        "ls1 = [1,2,3]\n",
        "ls2 = [4,7,2]\n",
        "ls3 = ls1+ls2\n",
        "print(ls3)#파이썬 리스트의 합은 concat"
      ],
      "metadata": {
        "colab": {
          "base_uri": "https://localhost:8080/"
        },
        "id": "3DnqGhFwuYom",
        "outputId": "ac853bca-9a06-40fc-9378-7dac7ad33449"
      },
      "execution_count": null,
      "outputs": [
        {
          "output_type": "stream",
          "name": "stdout",
          "text": [
            "[1, 2, 3, 4, 7, 2]\n"
          ]
        }
      ]
    },
    {
      "cell_type": "code",
      "source": [
        "arr1 = np.array(ls1)\n",
        "arr2 = np.array(ls2)\n",
        "arr3 = arr1+arr2\n",
        "print(arr3)#numpy의 +연산은 행렬의 +연산을 수행"
      ],
      "metadata": {
        "colab": {
          "base_uri": "https://localhost:8080/"
        },
        "id": "n2U838vPvoJf",
        "outputId": "f4f2147b-1a7e-4b7a-9af9-3ace5b006bff"
      },
      "execution_count": null,
      "outputs": [
        {
          "output_type": "stream",
          "name": "stdout",
          "text": [
            "[5 9 5]\n"
          ]
        }
      ]
    },
    {
      "cell_type": "code",
      "source": [
        "ls=[1,2,3]\n",
        "ls2 = ls*3\n",
        "print(ls2) #리스트*수는 원소를 반복해서 나열"
      ],
      "metadata": {
        "colab": {
          "base_uri": "https://localhost:8080/"
        },
        "id": "3_-t3AGMv-1v",
        "outputId": "4c0a4fc3-1b29-486c-c5c1-8846c86b9580"
      },
      "execution_count": null,
      "outputs": [
        {
          "output_type": "stream",
          "name": "stdout",
          "text": [
            "[1, 2, 3, 1, 2, 3, 1, 2, 3]\n"
          ]
        }
      ]
    },
    {
      "cell_type": "code",
      "source": [
        "arr = np.array(ls)\n",
        "arr2 = arr*3\n",
        "print(arr2) #numpy의 ndarray*정수는 행렬*정수 연산을 수행"
      ],
      "metadata": {
        "colab": {
          "base_uri": "https://localhost:8080/"
        },
        "id": "Bxb0XkfewYGf",
        "outputId": "75349784-57a7-4eac-a069-8211bcc6beaa"
      },
      "execution_count": null,
      "outputs": [
        {
          "output_type": "stream",
          "name": "stdout",
          "text": [
            "[3 6 9]\n"
          ]
        }
      ]
    },
    {
      "cell_type": "markdown",
      "source": [
        "%%time을 마킹하면 수행 시간을 측정해 줍니다."
      ],
      "metadata": {
        "id": "dLf10aqz341V"
      }
    },
    {
      "cell_type": "code",
      "source": [
        "%%time\n",
        "arr = np.arange(100000)"
      ],
      "metadata": {
        "colab": {
          "base_uri": "https://localhost:8080/"
        },
        "id": "8Gkk_qYv3OYB",
        "outputId": "2b9a3b1f-b1b3-4b84-fde5-be7e912e462b"
      },
      "execution_count": null,
      "outputs": [
        {
          "output_type": "stream",
          "name": "stdout",
          "text": [
            "CPU times: user 1.82 ms, sys: 0 ns, total: 1.82 ms\n",
            "Wall time: 1.4 ms\n"
          ]
        }
      ]
    },
    {
      "cell_type": "code",
      "source": [
        "%%time\n",
        "ls = list(range(100000)) "
      ],
      "metadata": {
        "colab": {
          "base_uri": "https://localhost:8080/"
        },
        "id": "MCMtKfuR3ZvQ",
        "outputId": "e0159d75-658d-4d97-e1b5-44fd59cf4ce5"
      },
      "execution_count": null,
      "outputs": [
        {
          "output_type": "stream",
          "name": "stdout",
          "text": [
            "CPU times: user 4.87 ms, sys: 1.06 ms, total: 5.93 ms\n",
            "Wall time: 6.02 ms\n"
          ]
        }
      ]
    },
    {
      "cell_type": "code",
      "source": [
        "arr = np.random.randn(2,3)#2X3 행렬을 생성(원소는 랜덤하게 결정)\n",
        "print(arr)"
      ],
      "metadata": {
        "colab": {
          "base_uri": "https://localhost:8080/"
        },
        "id": "ZpbDmoeA4Fc2",
        "outputId": "03ef6ba0-ed1a-48fe-9865-cf1bf7129b16"
      },
      "execution_count": null,
      "outputs": [
        {
          "output_type": "stream",
          "name": "stdout",
          "text": [
            "[[ 0.63122682 -0.5116836  -0.77854657]\n",
            " [-0.10233979  0.47566091  1.48494962]]\n"
          ]
        }
      ]
    },
    {
      "cell_type": "code",
      "source": [
        "arr2 = arr*3\n",
        "arr2"
      ],
      "metadata": {
        "colab": {
          "base_uri": "https://localhost:8080/"
        },
        "id": "sWfmwH6g4gY8",
        "outputId": "816ea3a6-2dc9-47b1-c1e3-2ec7ba3276e5"
      },
      "execution_count": null,
      "outputs": [
        {
          "output_type": "execute_result",
          "data": {
            "text/plain": [
              "array([[ 1.89368046, -1.53505079, -2.3356397 ],\n",
              "       [-0.30701936,  1.42698272,  4.45484886]])"
            ]
          },
          "metadata": {},
          "execution_count": 35
        }
      ]
    },
    {
      "cell_type": "code",
      "source": [
        "arr"
      ],
      "metadata": {
        "colab": {
          "base_uri": "https://localhost:8080/"
        },
        "id": "gfsp5GSD4pR8",
        "outputId": "66112c04-54c6-4174-e311-d430e1e7c66a"
      },
      "execution_count": null,
      "outputs": [
        {
          "output_type": "execute_result",
          "data": {
            "text/plain": [
              "array([[ 0.63122682, -0.5116836 , -0.77854657],\n",
              "       [-0.10233979,  0.47566091,  1.48494962]])"
            ]
          },
          "metadata": {},
          "execution_count": 34
        }
      ]
    },
    {
      "cell_type": "code",
      "source": [
        "arr.shape #구조 확인"
      ],
      "metadata": {
        "colab": {
          "base_uri": "https://localhost:8080/"
        },
        "id": "TzCMMr-75Hjc",
        "outputId": "48d6b0f4-a346-48cc-ae62-5827191a625c"
      },
      "execution_count": null,
      "outputs": [
        {
          "output_type": "execute_result",
          "data": {
            "text/plain": [
              "(2, 3)"
            ]
          },
          "metadata": {},
          "execution_count": 36
        }
      ]
    },
    {
      "cell_type": "code",
      "source": [
        "arr.ndim #차원 확인"
      ],
      "metadata": {
        "colab": {
          "base_uri": "https://localhost:8080/"
        },
        "id": "HtBt3C7F5O70",
        "outputId": "f0b4b78b-2995-4250-b85f-ea05ca52944e"
      },
      "execution_count": null,
      "outputs": [
        {
          "output_type": "execute_result",
          "data": {
            "text/plain": [
              "2"
            ]
          },
          "metadata": {},
          "execution_count": 37
        }
      ]
    },
    {
      "cell_type": "code",
      "source": [
        "arr.dtype#원소 타입 확인"
      ],
      "metadata": {
        "colab": {
          "base_uri": "https://localhost:8080/"
        },
        "id": "VJNiPAhz5TCt",
        "outputId": "11615e34-ba8e-44f2-e075-a4f4892ca698"
      },
      "execution_count": null,
      "outputs": [
        {
          "output_type": "execute_result",
          "data": {
            "text/plain": [
              "dtype('float64')"
            ]
          },
          "metadata": {},
          "execution_count": 38
        }
      ]
    },
    {
      "cell_type": "code",
      "source": [
        "arr = np.array([1,2,3])\n",
        "print(arr)\n",
        "print(arr.dtype)"
      ],
      "metadata": {
        "colab": {
          "base_uri": "https://localhost:8080/"
        },
        "id": "3ukiLfjY5fcN",
        "outputId": "bc10e6d9-518f-46da-b80c-6742176d17e6"
      },
      "execution_count": null,
      "outputs": [
        {
          "output_type": "stream",
          "name": "stdout",
          "text": [
            "[1 2 3]\n",
            "int64\n"
          ]
        }
      ]
    },
    {
      "cell_type": "code",
      "source": [
        "arr = np.array([1,2,3,4.2]) #정수와 실수로 배열 생성=>모든 정수는 실수로 변환\n",
        "print(arr)\n",
        "print(arr.dtype)\n",
        "print(type(arr[0]))"
      ],
      "metadata": {
        "colab": {
          "base_uri": "https://localhost:8080/"
        },
        "id": "Hnv26JOn5oVl",
        "outputId": "68e772eb-5a65-42c9-e485-7e541b6e4a4a"
      },
      "execution_count": null,
      "outputs": [
        {
          "output_type": "stream",
          "name": "stdout",
          "text": [
            "[1.  2.  3.  4.2]\n",
            "float64\n",
            "<class 'numpy.float64'>\n"
          ]
        }
      ]
    },
    {
      "cell_type": "code",
      "source": [
        "arr = np.array([1,2,3,4.2,'a']) #수와 문자열로 구성=>모두 문자열로 변환\n",
        "print(arr)\n",
        "print(arr.dtype)\n",
        "print(type(arr[0]))"
      ],
      "metadata": {
        "colab": {
          "base_uri": "https://localhost:8080/"
        },
        "id": "STV4IfEt6NnW",
        "outputId": "f347fd30-6981-4f71-8bcc-b2076f8531d7"
      },
      "execution_count": null,
      "outputs": [
        {
          "output_type": "stream",
          "name": "stdout",
          "text": [
            "['1' '2' '3' '4.2' 'a']\n",
            "<U32\n",
            "<class 'numpy.str_'>\n"
          ]
        }
      ]
    },
    {
      "cell_type": "markdown",
      "source": [
        "# 다차원 배열 생성"
      ],
      "metadata": {
        "id": "BnmWtpcn60sv"
      }
    },
    {
      "cell_type": "code",
      "source": [
        "ls = [1,2,3]\n",
        "arr = np.array(ls) #리스트를 입력 인자로 ndarray 개체 생성\n",
        "print(arr)\n",
        "print(type(arr))"
      ],
      "metadata": {
        "colab": {
          "base_uri": "https://localhost:8080/"
        },
        "id": "AFjrpgrn63zu",
        "outputId": "8ecf18e9-f6cb-41e0-8649-38605276f6da"
      },
      "execution_count": null,
      "outputs": [
        {
          "output_type": "stream",
          "name": "stdout",
          "text": [
            "[1 2 3]\n",
            "<class 'numpy.ndarray'>\n"
          ]
        }
      ]
    },
    {
      "cell_type": "code",
      "source": [
        "ls = [[1,2,3],[2,5,6]]\n",
        "arr = np.array(ls) #리스트를 입력 인자로 ndarray 개체 생성\n",
        "print(arr)\n",
        "print(type(arr))"
      ],
      "metadata": {
        "colab": {
          "base_uri": "https://localhost:8080/"
        },
        "id": "73hdLfKx6898",
        "outputId": "e52d236e-8b32-4b59-90bf-5aeeb2ddaccd"
      },
      "execution_count": null,
      "outputs": [
        {
          "output_type": "stream",
          "name": "stdout",
          "text": [
            "[[1 2 3]\n",
            " [2 5 6]]\n",
            "<class 'numpy.ndarray'>\n"
          ]
        }
      ]
    },
    {
      "cell_type": "code",
      "source": [
        "print(\"구조:\",arr.shape)\n",
        "print(\"차원:\",arr.ndim)\n",
        "print(\"원소 형식:\",arr.dtype)"
      ],
      "metadata": {
        "colab": {
          "base_uri": "https://localhost:8080/"
        },
        "id": "WqTOulSK7Nr9",
        "outputId": "3549a73f-6004-47b3-f0a8-de1570cb78d6"
      },
      "execution_count": null,
      "outputs": [
        {
          "output_type": "stream",
          "name": "stdout",
          "text": [
            "구조: (2, 3)\n",
            "차원: 2\n",
            "원소 형식: int64\n"
          ]
        }
      ]
    },
    {
      "cell_type": "code",
      "source": [
        "arr = np.zeros(10)\n",
        "print(arr)\n",
        "print(\"구조:\",arr.shape)\n",
        "print(\"차원:\",arr.ndim)\n",
        "print(\"원소 형식:\",arr.dtype)"
      ],
      "metadata": {
        "colab": {
          "base_uri": "https://localhost:8080/"
        },
        "id": "62y0Xf9l7c3E",
        "outputId": "7f4e43d8-6ccd-406a-82bd-7879ec37e39b"
      },
      "execution_count": null,
      "outputs": [
        {
          "output_type": "stream",
          "name": "stdout",
          "text": [
            "[0. 0. 0. 0. 0. 0. 0. 0. 0. 0.]\n",
            "구조: (10,)\n",
            "차원: 1\n",
            "원소 형식: float64\n"
          ]
        }
      ]
    },
    {
      "cell_type": "code",
      "source": [
        "arr = np.zeros((3,6))\n",
        "print(arr)\n",
        "print(\"구조:\",arr.shape)\n",
        "print(\"차원:\",arr.ndim)\n",
        "print(\"원소 형식:\",arr.dtype)"
      ],
      "metadata": {
        "colab": {
          "base_uri": "https://localhost:8080/"
        },
        "id": "ZiXH0JYI7onc",
        "outputId": "94351288-2c4a-4d78-84d5-eec1a7c2d588"
      },
      "execution_count": null,
      "outputs": [
        {
          "output_type": "stream",
          "name": "stdout",
          "text": [
            "[[0. 0. 0. 0. 0. 0.]\n",
            " [0. 0. 0. 0. 0. 0.]\n",
            " [0. 0. 0. 0. 0. 0.]]\n",
            "구조: (3, 6)\n",
            "차원: 2\n",
            "원소 형식: float64\n"
          ]
        }
      ]
    },
    {
      "cell_type": "code",
      "source": [
        "arr = np.ones((3,6))\n",
        "print(arr)\n",
        "print(\"구조:\",arr.shape)\n",
        "print(\"차원:\",arr.ndim)\n",
        "print(\"원소 형식:\",arr.dtype)"
      ],
      "metadata": {
        "colab": {
          "base_uri": "https://localhost:8080/"
        },
        "id": "NVW-5_d470HM",
        "outputId": "8eea277c-9cc9-4864-dce5-416ab45905f7"
      },
      "execution_count": null,
      "outputs": [
        {
          "output_type": "stream",
          "name": "stdout",
          "text": [
            "[[1. 1. 1. 1. 1. 1.]\n",
            " [1. 1. 1. 1. 1. 1.]\n",
            " [1. 1. 1. 1. 1. 1.]]\n",
            "구조: (3, 6)\n",
            "차원: 2\n",
            "원소 형식: float64\n"
          ]
        }
      ]
    },
    {
      "cell_type": "code",
      "source": [
        "arr = np.arange(20)\n",
        "print(arr)\n",
        "print(\"구조:\",arr.shape)\n",
        "print(\"차원:\",arr.ndim)\n",
        "print(\"원소 형식:\",arr.dtype)"
      ],
      "metadata": {
        "colab": {
          "base_uri": "https://localhost:8080/"
        },
        "id": "HLDICwWy8d2M",
        "outputId": "765b9cc7-700b-4ce5-e90e-0e5269f2a9fe"
      },
      "execution_count": null,
      "outputs": [
        {
          "output_type": "stream",
          "name": "stdout",
          "text": [
            "[ 0  1  2  3  4  5  6  7  8  9 10 11 12 13 14 15 16 17 18 19]\n",
            "구조: (20,)\n",
            "차원: 1\n",
            "원소 형식: int64\n"
          ]
        }
      ]
    },
    {
      "cell_type": "code",
      "source": [
        "arr = np.arange(3,20,4)\n",
        "print(arr)\n",
        "print(\"구조:\",arr.shape)\n",
        "print(\"차원:\",arr.ndim)\n",
        "print(\"원소 형식:\",arr.dtype)"
      ],
      "metadata": {
        "colab": {
          "base_uri": "https://localhost:8080/"
        },
        "id": "ZL2u0jsP8i4E",
        "outputId": "7717f47d-3364-456e-f0b8-762c5d714a40"
      },
      "execution_count": null,
      "outputs": [
        {
          "output_type": "stream",
          "name": "stdout",
          "text": [
            "[ 3  7 11 15 19]\n",
            "구조: (5,)\n",
            "차원: 1\n",
            "원소 형식: int64\n"
          ]
        }
      ]
    },
    {
      "cell_type": "markdown",
      "source": [
        "# 원소 타입"
      ],
      "metadata": {
        "id": "z3iDNS3VBd4k"
      }
    },
    {
      "cell_type": "code",
      "source": [
        "arr = np.array([1,2,3])\n",
        "print(type(arr[0]),type(arr[1]),type(arr[2]))\n",
        "print(arr.dtype)"
      ],
      "metadata": {
        "colab": {
          "base_uri": "https://localhost:8080/"
        },
        "id": "bZuh0PjSBfnU",
        "outputId": "a36019ac-eb3c-42a3-c167-511ae802c3a6"
      },
      "execution_count": null,
      "outputs": [
        {
          "output_type": "stream",
          "name": "stdout",
          "text": [
            "<class 'numpy.int64'> <class 'numpy.int64'> <class 'numpy.int64'>\n",
            "int64\n"
          ]
        }
      ]
    },
    {
      "cell_type": "code",
      "source": [
        "arr = np.array([1,2,4.2])\n",
        "print(type(arr[0]),type(arr[1]),type(arr[2]))\n",
        "print(arr.dtype)"
      ],
      "metadata": {
        "colab": {
          "base_uri": "https://localhost:8080/"
        },
        "id": "6pZUGB9GBuVC",
        "outputId": "64c997ca-f08c-4595-810e-0107e961380a"
      },
      "execution_count": null,
      "outputs": [
        {
          "output_type": "stream",
          "name": "stdout",
          "text": [
            "<class 'numpy.float64'> <class 'numpy.float64'> <class 'numpy.float64'>\n",
            "float64\n"
          ]
        }
      ]
    },
    {
      "cell_type": "code",
      "source": [
        "arr = np.array([1,2,4.2],dtype=np.int32)#dtype 인자를 이용하여 명시적으로 원소 형식 결정\n",
        "print(type(arr[0]),type(arr[1]),type(arr[2]))\n",
        "print(arr.dtype)\n",
        "print(arr)"
      ],
      "metadata": {
        "colab": {
          "base_uri": "https://localhost:8080/"
        },
        "id": "TCRn3_KtB7-8",
        "outputId": "f2789f59-f731-4cc9-8702-0206b3d93501"
      },
      "execution_count": null,
      "outputs": [
        {
          "output_type": "stream",
          "name": "stdout",
          "text": [
            "<class 'numpy.int32'> <class 'numpy.int32'> <class 'numpy.int32'>\n",
            "int32\n",
            "[1 2 4]\n"
          ]
        }
      ]
    },
    {
      "cell_type": "markdown",
      "source": [
        "# 산술 연산"
      ],
      "metadata": {
        "id": "MLI296HFCehV"
      }
    },
    {
      "cell_type": "code",
      "source": [
        "arr = np.array([[1,2,3],[4,5,6]])\n",
        "print(arr)\n",
        "print(\"====\")\n",
        "arr2 = arr*arr\n",
        "print(arr2)"
      ],
      "metadata": {
        "colab": {
          "base_uri": "https://localhost:8080/"
        },
        "id": "EArPjQLTCh0E",
        "outputId": "f2c67627-658e-4bcf-e44b-0d54638c81e4"
      },
      "execution_count": null,
      "outputs": [
        {
          "output_type": "stream",
          "name": "stdout",
          "text": [
            "[[1 2 3]\n",
            " [4 5 6]]\n",
            "====\n",
            "[[ 1  4  9]\n",
            " [16 25 36]]\n"
          ]
        }
      ]
    },
    {
      "cell_type": "code",
      "source": [
        "arr2 = arr-arr\n",
        "print(arr2)"
      ],
      "metadata": {
        "colab": {
          "base_uri": "https://localhost:8080/"
        },
        "id": "0Ga5wc6SC_li",
        "outputId": "0a195afc-6328-485d-c947-3c7915af928e"
      },
      "execution_count": null,
      "outputs": [
        {
          "output_type": "stream",
          "name": "stdout",
          "text": [
            "[[0 0 0]\n",
            " [0 0 0]]\n"
          ]
        }
      ]
    },
    {
      "cell_type": "code",
      "source": [
        "arr2 = 1/arr\n",
        "print(arr2)"
      ],
      "metadata": {
        "colab": {
          "base_uri": "https://localhost:8080/"
        },
        "id": "YFKTgXXADHCi",
        "outputId": "1778ad10-2023-46a9-d8f2-bae5a76116a9"
      },
      "execution_count": null,
      "outputs": [
        {
          "output_type": "stream",
          "name": "stdout",
          "text": [
            "[[1.         0.5        0.33333333]\n",
            " [0.25       0.2        0.16666667]]\n"
          ]
        }
      ]
    },
    {
      "cell_type": "code",
      "source": [
        "arr2 = arr**0.5\n",
        "print(arr2)"
      ],
      "metadata": {
        "colab": {
          "base_uri": "https://localhost:8080/"
        },
        "id": "LeAVHlbpDKeU",
        "outputId": "c12a0f81-5374-4016-bd42-38453e6332b8"
      },
      "execution_count": null,
      "outputs": [
        {
          "output_type": "stream",
          "name": "stdout",
          "text": [
            "[[1.         1.41421356 1.73205081]\n",
            " [2.         2.23606798 2.44948974]]\n"
          ]
        }
      ]
    },
    {
      "cell_type": "code",
      "source": [
        "arr1 = np.array([1,2,3])\n",
        "arr2 = np.array([4,0,2])\n",
        "filter = arr1>arr2\n",
        "print(filter)"
      ],
      "metadata": {
        "colab": {
          "base_uri": "https://localhost:8080/"
        },
        "id": "xO2sz_-TDf8y",
        "outputId": "b81a09ed-8898-4d80-d76c-0b07a268266f"
      },
      "execution_count": null,
      "outputs": [
        {
          "output_type": "stream",
          "name": "stdout",
          "text": [
            "[False  True  True]\n"
          ]
        }
      ]
    },
    {
      "cell_type": "markdown",
      "source": [
        "# 색인 및 슬라이싱"
      ],
      "metadata": {
        "id": "J7txX07pD-Xb"
      }
    },
    {
      "cell_type": "code",
      "source": [
        "arr = np.arange(1000)"
      ],
      "metadata": {
        "id": "P4DJc5wrEAhi"
      },
      "execution_count": null,
      "outputs": []
    },
    {
      "cell_type": "code",
      "source": [
        "print(arr[5:8])"
      ],
      "metadata": {
        "colab": {
          "base_uri": "https://localhost:8080/"
        },
        "id": "XudDQATeEGTC",
        "outputId": "cf5e8665-aee8-457e-e8e5-e2f4e79793b4"
      },
      "execution_count": null,
      "outputs": [
        {
          "output_type": "stream",
          "name": "stdout",
          "text": [
            "[5 6 7]\n"
          ]
        }
      ]
    },
    {
      "cell_type": "code",
      "source": [
        "print(arr[:8])"
      ],
      "metadata": {
        "colab": {
          "base_uri": "https://localhost:8080/"
        },
        "id": "sB9SNp6lESiK",
        "outputId": "a7c84145-79e2-4dcb-c506-3d0e5fb3908e"
      },
      "execution_count": null,
      "outputs": [
        {
          "output_type": "stream",
          "name": "stdout",
          "text": [
            "[0 1 2 3 4 5 6 7]\n"
          ]
        }
      ]
    },
    {
      "cell_type": "code",
      "source": [
        "print(arr[995:])"
      ],
      "metadata": {
        "colab": {
          "base_uri": "https://localhost:8080/"
        },
        "id": "DGlGePGbEaFK",
        "outputId": "662db52d-90ec-4f11-abd1-d29cffb8b27d"
      },
      "execution_count": null,
      "outputs": [
        {
          "output_type": "stream",
          "name": "stdout",
          "text": [
            "[995 996 997 998 999]\n"
          ]
        }
      ]
    },
    {
      "cell_type": "code",
      "source": [
        "print(arr[-5:])"
      ],
      "metadata": {
        "colab": {
          "base_uri": "https://localhost:8080/"
        },
        "id": "UflqYFDoEgzT",
        "outputId": "9c41d061-54a5-45e5-dfd0-37e80fe19faf"
      },
      "execution_count": null,
      "outputs": [
        {
          "output_type": "stream",
          "name": "stdout",
          "text": [
            "[995 996 997 998 999]\n"
          ]
        }
      ]
    },
    {
      "cell_type": "code",
      "source": [
        "arr = np.zeros(30)\n",
        "print(arr)"
      ],
      "metadata": {
        "colab": {
          "base_uri": "https://localhost:8080/"
        },
        "id": "ZwWSvUq7EqcB",
        "outputId": "4b573b15-9fd2-4fc5-e5fc-650fbfa7a6d0"
      },
      "execution_count": null,
      "outputs": [
        {
          "output_type": "stream",
          "name": "stdout",
          "text": [
            "[0. 0. 0. 0. 0. 0. 0. 0. 0. 0. 0. 0. 0. 0. 0. 0. 0. 0. 0. 0. 0. 0. 0. 0.\n",
            " 0. 0. 0. 0. 0. 0.]\n"
          ]
        }
      ]
    },
    {
      "cell_type": "code",
      "source": [
        "arr[5:8]=7\n",
        "print(arr)"
      ],
      "metadata": {
        "colab": {
          "base_uri": "https://localhost:8080/"
        },
        "id": "f--PHCxvEwGx",
        "outputId": "467ba737-7e37-461a-f4a5-09da96331c3e"
      },
      "execution_count": null,
      "outputs": [
        {
          "output_type": "stream",
          "name": "stdout",
          "text": [
            "[0. 0. 0. 0. 0. 7. 7. 7. 0. 0. 0. 0. 0. 0. 0. 0. 0. 0. 0. 0. 0. 0. 0. 0.\n",
            " 0. 0. 0. 0. 0. 0.]\n"
          ]
        }
      ]
    },
    {
      "cell_type": "code",
      "source": [
        "arr = np.array([[1,2,3],[4,5,6],[7,8,9]])\n",
        "print(arr)"
      ],
      "metadata": {
        "colab": {
          "base_uri": "https://localhost:8080/"
        },
        "id": "Zfd-wRtrE9na",
        "outputId": "80683014-b402-4230-dede-10dd5a2cf11c"
      },
      "execution_count": null,
      "outputs": [
        {
          "output_type": "stream",
          "name": "stdout",
          "text": [
            "[[1 2 3]\n",
            " [4 5 6]\n",
            " [7 8 9]]\n"
          ]
        }
      ]
    },
    {
      "cell_type": "code",
      "source": [
        "print(arr[0]) \n",
        "print(arr[1])\n",
        "print(arr[2])"
      ],
      "metadata": {
        "colab": {
          "base_uri": "https://localhost:8080/"
        },
        "id": "lwxkwYJnFE_x",
        "outputId": "4b647c1a-311f-4928-8cf1-65c66b392f15"
      },
      "execution_count": null,
      "outputs": [
        {
          "output_type": "stream",
          "name": "stdout",
          "text": [
            "[1 2 3]\n",
            "[4 5 6]\n",
            "[7 8 9]\n"
          ]
        }
      ]
    },
    {
      "cell_type": "code",
      "source": [
        "print(arr[0][2]) "
      ],
      "metadata": {
        "colab": {
          "base_uri": "https://localhost:8080/"
        },
        "id": "FcRSuaa8FPTz",
        "outputId": "47c8d269-3271-4bcf-dee1-e4247274b353"
      },
      "execution_count": null,
      "outputs": [
        {
          "output_type": "stream",
          "name": "stdout",
          "text": [
            "3\n"
          ]
        }
      ]
    },
    {
      "cell_type": "code",
      "source": [
        "print(arr[0,2]) "
      ],
      "metadata": {
        "colab": {
          "base_uri": "https://localhost:8080/"
        },
        "id": "KDL_AhK1FTBD",
        "outputId": "23b81095-1ac2-438f-a830-f184695f29ea"
      },
      "execution_count": null,
      "outputs": [
        {
          "output_type": "stream",
          "name": "stdout",
          "text": [
            "3\n"
          ]
        }
      ]
    },
    {
      "cell_type": "code",
      "source": [
        "#소스 배열을 가지고 간단한 실험을 하기 위해서 복사하여 사용하기\n",
        "cp_arr = arr.copy()\n",
        "print(cp_arr)\n",
        "cp_arr[0][1]=8\n",
        "print(cp_arr)\n",
        "print(arr)"
      ],
      "metadata": {
        "colab": {
          "base_uri": "https://localhost:8080/"
        },
        "id": "gxY0cGG_FgEk",
        "outputId": "ec3bba17-f13d-4aa4-86f5-c284e04fe2f6"
      },
      "execution_count": null,
      "outputs": [
        {
          "output_type": "stream",
          "name": "stdout",
          "text": [
            "[[1 2 3]\n",
            " [4 5 6]\n",
            " [7 8 9]]\n",
            "[[1 8 3]\n",
            " [4 5 6]\n",
            " [7 8 9]]\n",
            "[[1 2 3]\n",
            " [4 5 6]\n",
            " [7 8 9]]\n"
          ]
        }
      ]
    },
    {
      "cell_type": "code",
      "source": [
        "cp_arr = arr #arr과 cp_arr은 같은 개체를 참조\n",
        "print(cp_arr)\n",
        "cp_arr[0][1]=8\n",
        "print(cp_arr)\n",
        "print(arr)"
      ],
      "metadata": {
        "colab": {
          "base_uri": "https://localhost:8080/"
        },
        "id": "ttyvJpKWF2ri",
        "outputId": "f14e73f3-3a99-4f57-9d70-16b20ffc0205"
      },
      "execution_count": null,
      "outputs": [
        {
          "output_type": "stream",
          "name": "stdout",
          "text": [
            "[[1 2 3]\n",
            " [4 5 6]\n",
            " [7 8 9]]\n",
            "[[1 8 3]\n",
            " [4 5 6]\n",
            " [7 8 9]]\n",
            "[[1 8 3]\n",
            " [4 5 6]\n",
            " [7 8 9]]\n"
          ]
        }
      ]
    },
    {
      "cell_type": "code",
      "source": [
        "arr = np.array([1,2,3])\n",
        "\n",
        "filter = arr>=2\n",
        "print(filter)"
      ],
      "metadata": {
        "colab": {
          "base_uri": "https://localhost:8080/"
        },
        "id": "V8hsGWtiG4Ri",
        "outputId": "76dce16c-2025-47ed-952e-0e9752c8f4ea"
      },
      "execution_count": null,
      "outputs": [
        {
          "output_type": "stream",
          "name": "stdout",
          "text": [
            "[False  True  True]\n"
          ]
        }
      ]
    },
    {
      "cell_type": "code",
      "source": [
        "res = arr[filter]\n",
        "print(res)"
      ],
      "metadata": {
        "colab": {
          "base_uri": "https://localhost:8080/"
        },
        "id": "SmRNW1gyHOFM",
        "outputId": "085491f7-b68d-4cf5-9abd-46b19dc44256"
      },
      "execution_count": null,
      "outputs": [
        {
          "output_type": "stream",
          "name": "stdout",
          "text": [
            "[2 3]\n"
          ]
        }
      ]
    },
    {
      "cell_type": "code",
      "source": [
        "res = arr[~filter]\n",
        "print(res)"
      ],
      "metadata": {
        "colab": {
          "base_uri": "https://localhost:8080/"
        },
        "id": "yexZw8BTHquB",
        "outputId": "40bf8236-aa16-4127-9ea5-5b76f111efdd"
      },
      "execution_count": null,
      "outputs": [
        {
          "output_type": "stream",
          "name": "stdout",
          "text": [
            "[1]\n"
          ]
        }
      ]
    },
    {
      "cell_type": "markdown",
      "source": [
        "# 구조 변경"
      ],
      "metadata": {
        "id": "CQat9bxRIV6B"
      }
    },
    {
      "cell_type": "code",
      "source": [
        "arr = np.arange(96)\n",
        "print(\"구조:\",arr.shape)\n",
        "print(\"차원:\",arr.ndim)"
      ],
      "metadata": {
        "colab": {
          "base_uri": "https://localhost:8080/"
        },
        "id": "innTIQTVIYR4",
        "outputId": "45198b6d-416b-4b22-84b7-85a5f335eb49"
      },
      "execution_count": null,
      "outputs": [
        {
          "output_type": "stream",
          "name": "stdout",
          "text": [
            "구조: (96,)\n",
            "차원: 1\n"
          ]
        }
      ]
    },
    {
      "cell_type": "code",
      "source": [
        "arr2 = arr.reshape((6,16))\n",
        "print(\"구조:\",arr2.shape)\n",
        "print(\"차원:\",arr2.ndim)"
      ],
      "metadata": {
        "colab": {
          "base_uri": "https://localhost:8080/"
        },
        "id": "aemRZK9rIl6s",
        "outputId": "9947626c-c3c0-4816-deef-f65b944fed24"
      },
      "execution_count": null,
      "outputs": [
        {
          "output_type": "stream",
          "name": "stdout",
          "text": [
            "구조: (6, 16)\n",
            "차원: 2\n"
          ]
        }
      ]
    },
    {
      "cell_type": "code",
      "source": [
        "#arr2 = arr.reshape((7,13)) #구조 변경할 때 요소의 개수가 같을 때만 구조 변경할 수 있음\n",
        "#print(\"구조:\",arr2.shape)\n",
        "#print(\"차원:\",arr2.ndim)"
      ],
      "metadata": {
        "colab": {
          "base_uri": "https://localhost:8080/",
          "height": 206
        },
        "id": "EkboQ7BtIzi6",
        "outputId": "6edef4d7-892f-4737-d756-9a060362a774"
      },
      "execution_count": null,
      "outputs": [
        {
          "output_type": "error",
          "ename": "ValueError",
          "evalue": "ignored",
          "traceback": [
            "\u001b[0;31m---------------------------------------------------------------------------\u001b[0m",
            "\u001b[0;31mValueError\u001b[0m                                Traceback (most recent call last)",
            "\u001b[0;32m<ipython-input-91-178a4642373a>\u001b[0m in \u001b[0;36m<module>\u001b[0;34m\u001b[0m\n\u001b[0;32m----> 1\u001b[0;31m \u001b[0marr2\u001b[0m \u001b[0;34m=\u001b[0m \u001b[0marr\u001b[0m\u001b[0;34m.\u001b[0m\u001b[0mreshape\u001b[0m\u001b[0;34m(\u001b[0m\u001b[0;34m(\u001b[0m\u001b[0;36m7\u001b[0m\u001b[0;34m,\u001b[0m\u001b[0;36m14\u001b[0m\u001b[0;34m)\u001b[0m\u001b[0;34m)\u001b[0m\u001b[0;34m\u001b[0m\u001b[0;34m\u001b[0m\u001b[0m\n\u001b[0m\u001b[1;32m      2\u001b[0m \u001b[0mprint\u001b[0m\u001b[0;34m(\u001b[0m\u001b[0;34m\"구조:\"\u001b[0m\u001b[0;34m,\u001b[0m\u001b[0marr2\u001b[0m\u001b[0;34m.\u001b[0m\u001b[0mshape\u001b[0m\u001b[0;34m)\u001b[0m\u001b[0;34m\u001b[0m\u001b[0;34m\u001b[0m\u001b[0m\n\u001b[1;32m      3\u001b[0m \u001b[0mprint\u001b[0m\u001b[0;34m(\u001b[0m\u001b[0;34m\"차원:\"\u001b[0m\u001b[0;34m,\u001b[0m\u001b[0marr2\u001b[0m\u001b[0;34m.\u001b[0m\u001b[0mndim\u001b[0m\u001b[0;34m)\u001b[0m\u001b[0;34m\u001b[0m\u001b[0;34m\u001b[0m\u001b[0m\n",
            "\u001b[0;31mValueError\u001b[0m: cannot reshape array of size 96 into shape (7,14)"
          ]
        }
      ]
    },
    {
      "cell_type": "code",
      "source": [
        "arr2 = arr.reshape((6,-1)) #구조 변경 요청할 때 하나의 차원은 -1로 표현 가능(알아서 계산)\n",
        "print(\"구조:\",arr2.shape)\n",
        "print(\"차원:\",arr2.ndim)"
      ],
      "metadata": {
        "colab": {
          "base_uri": "https://localhost:8080/"
        },
        "id": "MNpWwoaZJHp-",
        "outputId": "d4684c28-14c5-45ae-9f55-8886e6adaefb"
      },
      "execution_count": null,
      "outputs": [
        {
          "output_type": "stream",
          "name": "stdout",
          "text": [
            "구조: (6, 16)\n",
            "차원: 2\n"
          ]
        }
      ]
    },
    {
      "cell_type": "code",
      "source": [
        "arr = np.array([[1,2,3],[4,5,6]])\n",
        "arr2 = arr.T\n",
        "print(arr)\n",
        "print(\"====\")\n",
        "print(arr2)"
      ],
      "metadata": {
        "colab": {
          "base_uri": "https://localhost:8080/"
        },
        "id": "gYbC2dJRJZJx",
        "outputId": "2aba828b-770e-4370-ce7d-e0d9e6bd2be4"
      },
      "execution_count": null,
      "outputs": [
        {
          "output_type": "stream",
          "name": "stdout",
          "text": [
            "[[1 2 3]\n",
            " [4 5 6]]\n",
            "====\n",
            "[[1 4]\n",
            " [2 5]\n",
            " [3 6]]\n"
          ]
        }
      ]
    },
    {
      "cell_type": "code",
      "source": [
        "arr2 = arr.transpose() #arr.T와 arr.transpose()는 같은 결과(전치행렬)를 반환한다.\n",
        "print(arr)\n",
        "print(\"====\")\n",
        "print(arr2)"
      ],
      "metadata": {
        "colab": {
          "base_uri": "https://localhost:8080/"
        },
        "id": "E-6Dl0oAJ0RD",
        "outputId": "e8b35516-d964-4441-aded-7cdea060a140"
      },
      "execution_count": null,
      "outputs": [
        {
          "output_type": "stream",
          "name": "stdout",
          "text": [
            "[[1 2 3]\n",
            " [4 5 6]]\n",
            "====\n",
            "[[1 4]\n",
            " [2 5]\n",
            " [3 6]]\n"
          ]
        }
      ]
    },
    {
      "cell_type": "code",
      "source": [
        "arr = np.arange(10)\n",
        "print(arr)"
      ],
      "metadata": {
        "colab": {
          "base_uri": "https://localhost:8080/"
        },
        "id": "BOD5la4vKE1K",
        "outputId": "4c3430f1-9d2f-4e84-8858-bd75fab50a86"
      },
      "execution_count": null,
      "outputs": [
        {
          "output_type": "stream",
          "name": "stdout",
          "text": [
            "[0 1 2 3 4 5 6 7 8 9]\n"
          ]
        }
      ]
    },
    {
      "cell_type": "code",
      "source": [
        "arr2 = np.sqrt(arr)\n",
        "print(arr2)"
      ],
      "metadata": {
        "colab": {
          "base_uri": "https://localhost:8080/"
        },
        "id": "vp7irGPRKKAh",
        "outputId": "bf253825-1467-4f09-d387-cfa05143380c"
      },
      "execution_count": null,
      "outputs": [
        {
          "output_type": "stream",
          "name": "stdout",
          "text": [
            "[0.         1.         1.41421356 1.73205081 2.         2.23606798\n",
            " 2.44948974 2.64575131 2.82842712 3.        ]\n",
            "[0 1 2 3 4 5 6 7 8 9]\n"
          ]
        }
      ]
    },
    {
      "cell_type": "code",
      "source": [
        "arr1 = np.random.randn(2,3)\n",
        "print(arr1)\n",
        "print(\"===\")\n",
        "arr2 = np.random.randn(2,3)\n",
        "print(arr2)"
      ],
      "metadata": {
        "colab": {
          "base_uri": "https://localhost:8080/"
        },
        "id": "JpANdmNbLt_x",
        "outputId": "e3499205-6791-43e9-ab91-aab95ee15a69"
      },
      "execution_count": null,
      "outputs": [
        {
          "output_type": "stream",
          "name": "stdout",
          "text": [
            "[[ 1.41526783 -1.78901881 -1.17299417]\n",
            " [-1.26056084  0.13910386 -0.54477653]]\n",
            "===\n",
            "[[ 0.78373639 -0.82574244  0.06202791]\n",
            " [-0.95522216  0.32842207  2.10736215]]\n"
          ]
        }
      ]
    },
    {
      "cell_type": "code",
      "source": [
        "arr3 = np.maximum(arr1,arr2)\n",
        "print(arr3)"
      ],
      "metadata": {
        "colab": {
          "base_uri": "https://localhost:8080/"
        },
        "id": "fX7ER54yL6n8",
        "outputId": "f86613e6-f363-4d95-bb35-c72aa6c119bd"
      },
      "execution_count": null,
      "outputs": [
        {
          "output_type": "stream",
          "name": "stdout",
          "text": [
            "[[ 1.41526783 -0.82574244  0.06202791]\n",
            " [-0.95522216  0.32842207  2.10736215]]\n"
          ]
        }
      ]
    },
    {
      "cell_type": "markdown",
      "source": [
        "# Numpy 안으로"
      ],
      "metadata": {
        "id": "SJmrjIG9ep76"
      }
    },
    {
      "cell_type": "code",
      "source": [
        "#잠시 파이썬 기본 문법 - 리스트 컴프리헨션\n",
        "xs = [x*x+2*x+3 for x in range(1,10)] #리스트 컴프리헨션\n",
        "print(xs)"
      ],
      "metadata": {
        "colab": {
          "base_uri": "https://localhost:8080/"
        },
        "id": "y15UMZQJgYnR",
        "outputId": "d8db934e-7cd7-4a29-c9c9-9aa816ee2bd2"
      },
      "execution_count": null,
      "outputs": [
        {
          "output_type": "stream",
          "name": "stdout",
          "text": [
            "[6, 11, 18, 27, 38, 51, 66, 83, 102]\n"
          ]
        }
      ]
    },
    {
      "cell_type": "code",
      "source": [
        "xs=[]\n",
        "for x in range(1,10):\n",
        "  xs.append(x*x+2*x+3)\n",
        "print(xs)"
      ],
      "metadata": {
        "colab": {
          "base_uri": "https://localhost:8080/"
        },
        "id": "G3O28CO-g0rt",
        "outputId": "66369ded-25e6-4891-e93f-02c08e239f17"
      },
      "execution_count": null,
      "outputs": [
        {
          "output_type": "stream",
          "name": "stdout",
          "text": [
            "[6, 11, 18, 27, 38, 51, 66, 83, 102]\n"
          ]
        }
      ]
    },
    {
      "cell_type": "code",
      "source": [
        "xarr = np.array([1.1,1.2,1.3,1.4,1.5])\n",
        "yarr = np.array([2.1,2.2,2.3,2.4,2.5])\n",
        "cond = np.array([True,False,True,True,False])"
      ],
      "metadata": {
        "id": "39FYeg9Phan0"
      },
      "execution_count": null,
      "outputs": []
    },
    {
      "cell_type": "code",
      "source": [
        "#파이썬 기초 문법 - zip 사용 예\n",
        "ls1=[1,2,3]\n",
        "ls2=['가','나','다']\n",
        "for e1, e2 in zip(ls1,ls2):\n",
        "  print(e1,e2)"
      ],
      "metadata": {
        "colab": {
          "base_uri": "https://localhost:8080/"
        },
        "id": "xUb8apZaho9J",
        "outputId": "e616022e-6caf-448a-abb0-6bc304470915"
      },
      "execution_count": null,
      "outputs": [
        {
          "output_type": "stream",
          "name": "stdout",
          "text": [
            "1 가\n",
            "2 나\n",
            "3 다\n"
          ]
        }
      ]
    },
    {
      "cell_type": "code",
      "source": [
        "#리스트 컴프리헨션\n",
        "result = [(x if c else y) for x,y,c in zip(xarr,yarr,cond)]\n",
        "print(result)"
      ],
      "metadata": {
        "colab": {
          "base_uri": "https://localhost:8080/"
        },
        "id": "K75Tm1KgiQwo",
        "outputId": "5f52f50b-98dd-4517-9013-ce15da1545b6"
      },
      "execution_count": null,
      "outputs": [
        {
          "output_type": "stream",
          "name": "stdout",
          "text": [
            "[1.1, 2.2, 1.3, 1.4, 2.5]\n"
          ]
        }
      ]
    },
    {
      "cell_type": "code",
      "source": [
        "result = np.where(cond,xarr,yarr)\n",
        "print(result)"
      ],
      "metadata": {
        "colab": {
          "base_uri": "https://localhost:8080/"
        },
        "id": "6AKWUHFmjYLB",
        "outputId": "70a068c4-57e5-4205-ed7f-de390c9ba483"
      },
      "execution_count": null,
      "outputs": [
        {
          "output_type": "stream",
          "name": "stdout",
          "text": [
            "[1.1 2.2 1.3 1.4 2.5]\n"
          ]
        }
      ]
    },
    {
      "cell_type": "code",
      "source": [
        "result=[]\n",
        "for x,y,c in zip(xarr,yarr,cond):\n",
        "  if c:\n",
        "    result.append(x)\n",
        "  else:\n",
        "    result.append(y)\n",
        "print(result)"
      ],
      "metadata": {
        "colab": {
          "base_uri": "https://localhost:8080/"
        },
        "id": "wCH_m4jBifPK",
        "outputId": "f1f8a5f0-5c9d-43a0-dfe8-4d18b9eeeb9c"
      },
      "execution_count": null,
      "outputs": [
        {
          "output_type": "stream",
          "name": "stdout",
          "text": [
            "[1.1, 2.2, 1.3, 1.4, 2.5]\n"
          ]
        }
      ]
    },
    {
      "cell_type": "code",
      "source": [
        "result = np.where(cond,1,2)\n",
        "print(result)"
      ],
      "metadata": {
        "colab": {
          "base_uri": "https://localhost:8080/"
        },
        "id": "VIc4aQdrj1Mw",
        "outputId": "5b42655f-efa4-4924-caba-50b07ba19c07"
      },
      "execution_count": null,
      "outputs": [
        {
          "output_type": "stream",
          "name": "stdout",
          "text": [
            "[1 2 1 1 2]\n"
          ]
        }
      ]
    },
    {
      "cell_type": "code",
      "source": [
        "heights = np.random.normal(172.4,5,100)#평균 172.4 표준편차 5인 표본 100개를 생성\n",
        "print(heights)"
      ],
      "metadata": {
        "id": "uVJ3WlPikR5R"
      },
      "execution_count": null,
      "outputs": []
    },
    {
      "cell_type": "code",
      "source": [
        "print(\"평균:\",heights.mean()) #print(\"평균:\",np.mean(heights))\n",
        "print(\"합계:\",heights.sum()) #print(\"평균:\",np.sum(heights))"
      ],
      "metadata": {
        "colab": {
          "base_uri": "https://localhost:8080/"
        },
        "id": "teH_wcNelDYR",
        "outputId": "3c2f8b5a-5fd9-46b7-d4df-649c9e0ff1dc"
      },
      "execution_count": null,
      "outputs": [
        {
          "output_type": "stream",
          "name": "stdout",
          "text": [
            "평균: 172.5403082294257\n",
            "합계: 172540.30822942572\n"
          ]
        }
      ]
    },
    {
      "cell_type": "code",
      "source": [
        "h2 = heights.reshape(20,-1)\n",
        "print(\"구조:\",h2.shape)\n",
        "print(h2)"
      ],
      "metadata": {
        "colab": {
          "base_uri": "https://localhost:8080/"
        },
        "id": "Y7H6xdCClaag",
        "outputId": "dedca7a0-7e39-4ae1-83ee-b56ada8a8e69"
      },
      "execution_count": null,
      "outputs": [
        {
          "output_type": "stream",
          "name": "stdout",
          "text": [
            "구조: (20, 5)\n",
            "[[166.34868278 167.70545164 168.87729106 180.10681508 177.01796515]\n",
            " [175.5536339  164.13094232 178.86755416 178.7050987  174.22857141]\n",
            " [179.89718354 169.9496353  171.06883114 173.6931746  160.47308694]\n",
            " [164.37557686 173.06612146 178.26154814 171.46799815 169.85400013]\n",
            " [170.80760461 166.49060057 172.87968366 178.67541645 172.36949371]\n",
            " [179.11825145 174.19258124 170.85492721 174.9788753  169.12597437]\n",
            " [168.67728646 173.02441736 177.38387279 173.98199054 178.9799077 ]\n",
            " [175.89187863 175.02126449 172.91977771 172.22684256 168.6362982 ]\n",
            " [166.75472097 172.20937245 172.51813002 171.60751509 177.15248424]\n",
            " [169.85895792 176.08976766 167.16948306 173.6485224  168.73300495]\n",
            " [181.04061318 171.42544063 165.85286459 175.73457735 168.28331254]\n",
            " [179.73062757 167.04910451 165.13630392 164.07843775 173.29090302]\n",
            " [164.29510101 173.52992426 170.42794292 177.44550937 169.16909614]\n",
            " [177.41640374 169.53075795 172.10669509 176.41055766 177.29440516]\n",
            " [180.5532041  174.33670625 175.3498016  169.70105744 169.34630763]\n",
            " [167.93406738 168.66324627 169.96096322 170.17552175 175.55146582]\n",
            " [179.2458107  169.06728104 174.42618532 169.34475242 175.86644163]\n",
            " [175.60868912 170.46074377 179.15037551 166.44229899 164.11729296]\n",
            " [173.642005   175.00126454 181.92741143 169.21399237 176.83645663]\n",
            " [168.83944702 177.19749384 169.7332982  170.0270402  180.39437956]]\n"
          ]
        }
      ]
    },
    {
      "cell_type": "code",
      "source": [
        "print(\"평균(축0):\",h2.mean(axis=0)) #컬럼 별 평균\n",
        "print(\"평균(축1):\",h2.mean(axis=1)) #로우 별 평균"
      ],
      "metadata": {
        "colab": {
          "base_uri": "https://localhost:8080/"
        },
        "id": "HkTHOtErlp8f",
        "outputId": "f98014e8-6af5-415f-ec0c-eb005dd9ca20"
      },
      "execution_count": null,
      "outputs": [
        {
          "output_type": "stream",
          "name": "stdout",
          "text": [
            "평균(축0): [173.2794873  171.40710588 172.74364704 172.88329971 172.33604239]\n",
            "평균(축1): [172.01124114 174.2971601  171.01638231 171.40504895 172.2445598\n",
            " 173.65412191 174.40949497 172.93921232 172.04844455 171.0999472\n",
            " 172.46736166 169.85707536 170.97351474 174.55176392 173.8574154\n",
            " 170.45705289 173.59009422 171.15588007 175.32422599 173.23833176]\n"
          ]
        }
      ]
    },
    {
      "cell_type": "code",
      "source": [
        "print(\"합계(축0):\",h2.sum(axis=0)) #컬럼 별 합계\n",
        "print(\"합계(축1):\",h2.sum(axis=1)) #로우 별 합계"
      ],
      "metadata": {
        "colab": {
          "base_uri": "https://localhost:8080/"
        },
        "id": "k0A88w1LmeQp",
        "outputId": "9d0f5b59-9132-490e-f05b-df485906f6f2"
      },
      "execution_count": null,
      "outputs": [
        {
          "output_type": "stream",
          "name": "stdout",
          "text": [
            "합계(축0): [3465.58974595 3428.14211757 3454.87294076 3457.66599417 3446.7208479 ]\n",
            "합계(축1): [860.05620572 871.48580049 855.08191153 857.02524475 861.222799\n",
            " 868.27060957 872.04747485 864.6960616  860.24222277 855.49973599\n",
            " 862.33680828 849.28537678 854.86757372 872.75881959 869.28707702\n",
            " 852.28526444 867.95047111 855.77940035 876.62112997 866.19165882]\n"
          ]
        }
      ]
    },
    {
      "cell_type": "code",
      "source": [
        "print(\"분산:\",h2.var()) \n",
        "print(\"표준편차:\",h2.std())"
      ],
      "metadata": {
        "colab": {
          "base_uri": "https://localhost:8080/"
        },
        "id": "PxNzVPD-ms7T",
        "outputId": "9c2fa736-0173-4185-920a-2f6ad72ab3be"
      },
      "execution_count": null,
      "outputs": [
        {
          "output_type": "stream",
          "name": "stdout",
          "text": [
            "분산: 21.796294370347404\n",
            "표준편차: 4.668650165770338\n"
          ]
        }
      ]
    },
    {
      "cell_type": "code",
      "source": [
        "print(\"최솟값:\",h2.min()) \n",
        "print(\"최댓값:\",h2.max())"
      ],
      "metadata": {
        "colab": {
          "base_uri": "https://localhost:8080/"
        },
        "id": "mwk23WcVnHbI",
        "outputId": "73f4bda6-77db-4df5-f6ad-acbf50fd0098"
      },
      "execution_count": null,
      "outputs": [
        {
          "output_type": "stream",
          "name": "stdout",
          "text": [
            "최솟값: 160.47308694259831\n",
            "최댓값: 181.92741142774884\n"
          ]
        }
      ]
    },
    {
      "cell_type": "code",
      "source": [
        "print(\"최솟값이 있는 위치:\",heights.argmin()) \n",
        "print(\"최댓값이 있는 위치:\",heights.argmax())\n",
        "print(heights[heights.argmin()],heights[heights.argmax()])"
      ],
      "metadata": {
        "colab": {
          "base_uri": "https://localhost:8080/"
        },
        "id": "qGMTq9vGnanC",
        "outputId": "878175bd-925b-4abc-a683-4ebdf0a36a05"
      },
      "execution_count": null,
      "outputs": [
        {
          "output_type": "stream",
          "name": "stdout",
          "text": [
            "최솟값이 있는 위치: 14\n",
            "최댓값이 있는 위치: 92\n",
            "160.47308694259831 181.92741142774884\n"
          ]
        }
      ]
    },
    {
      "cell_type": "code",
      "source": [
        "arr= np.array([1,2,4,2,7])\n",
        "print(\"누적 합계:\",arr.cumsum()) \n",
        "print(\"누적 곱:\",arr.cumprod()) "
      ],
      "metadata": {
        "colab": {
          "base_uri": "https://localhost:8080/"
        },
        "id": "7Ll3_4DhoGqz",
        "outputId": "184784c5-a7c6-444e-f685-b9d54629b843"
      },
      "execution_count": null,
      "outputs": [
        {
          "output_type": "stream",
          "name": "stdout",
          "text": [
            "누적 합계: [ 1  3  7  9 16]\n",
            "누적 곱: [  1   2   8  16 112]\n"
          ]
        }
      ]
    },
    {
      "cell_type": "code",
      "source": [
        "arr.sort()\n",
        "print(arr)"
      ],
      "metadata": {
        "colab": {
          "base_uri": "https://localhost:8080/"
        },
        "id": "VifMGaYNo4Y4",
        "outputId": "518d6c9e-83ab-4e80-d2df-f58e18d14072"
      },
      "execution_count": null,
      "outputs": [
        {
          "output_type": "stream",
          "name": "stdout",
          "text": [
            "[1 2 2 4 7]\n"
          ]
        }
      ]
    },
    {
      "cell_type": "code",
      "source": [
        "ua = np.unique(arr)\n",
        "print(ua)"
      ],
      "metadata": {
        "colab": {
          "base_uri": "https://localhost:8080/"
        },
        "id": "Z4P8wkVQpOVA",
        "outputId": "1c7f60db-0f29-4549-96c9-6493cb951bd1"
      },
      "execution_count": null,
      "outputs": [
        {
          "output_type": "stream",
          "name": "stdout",
          "text": [
            "[1 2 4 7]\n"
          ]
        }
      ]
    },
    {
      "cell_type": "code",
      "source": [
        "x = np.array([[1,2,3],[4,5,6]])\n",
        "y = np.array([[2,3],[1,2],[4,5]])\n",
        "re = x.dot(y)\n",
        "print(x)\n",
        "print(\"===\")\n",
        "print(y)\n",
        "print(\"====\")\n",
        "print(re)"
      ],
      "metadata": {
        "colab": {
          "base_uri": "https://localhost:8080/"
        },
        "id": "UYpbET-evY8v",
        "outputId": "c5666414-690d-425a-ad14-dbd250d6f844"
      },
      "execution_count": null,
      "outputs": [
        {
          "output_type": "stream",
          "name": "stdout",
          "text": [
            "[[1 2 3]\n",
            " [4 5 6]]\n",
            "===\n",
            "[[2 3]\n",
            " [1 2]\n",
            " [4 5]]\n",
            "====\n",
            "[[16 22]\n",
            " [37 52]]\n"
          ]
        }
      ]
    },
    {
      "cell_type": "markdown",
      "source": [
        "# 난수"
      ],
      "metadata": {
        "id": "kbRaTeV8w8pv"
      }
    },
    {
      "cell_type": "code",
      "source": [
        "for _ in range(10):\n",
        "  print(np.random.uniform(-2,3))#-2에서 3사이의 랜덤한 실수 반환"
      ],
      "metadata": {
        "colab": {
          "base_uri": "https://localhost:8080/"
        },
        "id": "aWw4WyIlw_bm",
        "outputId": "e7816c4f-0862-4d39-ded4-a06370e6cfd9"
      },
      "execution_count": null,
      "outputs": [
        {
          "output_type": "stream",
          "name": "stdout",
          "text": [
            "0.8392885724189121\n",
            "0.6205907759186831\n",
            "0.7968913750072621\n",
            "2.719277779760926\n",
            "2.0664532402982436\n",
            "1.4852163092685928\n",
            "-1.9534014734513987\n",
            "1.707262752131562\n",
            "1.9634297246283028\n",
            "-0.86771758132282\n"
          ]
        }
      ]
    },
    {
      "cell_type": "code",
      "source": [
        "for _ in range(20):\n",
        "  print(np.random.randint(1,5),end=' ')#1에서 5사이의 랜덤한 정수 반환\n",
        "print()"
      ],
      "metadata": {
        "colab": {
          "base_uri": "https://localhost:8080/"
        },
        "id": "uhMcNerPxjPJ",
        "outputId": "4c84b86f-75fe-4cb4-d8a2-42b7d16ba1a7"
      },
      "execution_count": null,
      "outputs": [
        {
          "output_type": "stream",
          "name": "stdout",
          "text": [
            "3 4 4 2 3 2 2 3 3 2 2 3 4 1 1 2 4 4 2 2 \n"
          ]
        }
      ]
    },
    {
      "cell_type": "code",
      "source": [
        "volan = [1,7,2,8,9]\n",
        "for _ in range(20):\n",
        "  print(np.random.choice(volan),end=' ')\n",
        "print()"
      ],
      "metadata": {
        "colab": {
          "base_uri": "https://localhost:8080/"
        },
        "id": "WnsEMBulyjtY",
        "outputId": "244bce9e-722f-4252-b44a-f45e66bed56d"
      },
      "execution_count": null,
      "outputs": [
        {
          "output_type": "stream",
          "name": "stdout",
          "text": [
            "8 1 1 8 7 1 2 8 2 2 9 2 8 2 9 1 7 9 8 9 \n"
          ]
        }
      ]
    },
    {
      "cell_type": "code",
      "source": [],
      "metadata": {
        "id": "jq8k_vCP2AEq"
      },
      "execution_count": null,
      "outputs": []
    }
  ]
}